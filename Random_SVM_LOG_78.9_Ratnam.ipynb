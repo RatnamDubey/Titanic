{
 "cells": [
  {
   "cell_type": "code",
   "execution_count": 1,
   "metadata": {
    "collapsed": true
   },
   "outputs": [],
   "source": [
    "\n",
    "import pandas as pd \n",
    "import matplotlib.pyplot as plt\n",
    "from sklearn.ensemble import RandomForestClassifier\n",
    "from sklearn import ensemble\n",
    "from sklearn.linear_model import LogisticRegression\n",
    "from sklearn import svm"
   ]
  },
  {
   "cell_type": "code",
   "execution_count": 2,
   "metadata": {
    "collapsed": false
   },
   "outputs": [],
   "source": [
    "train = pd.read_csv('D:\\Kaggle Projects\\Titanic\\\\Data\\\\train.csv')\n",
    "test_1 = pd.read_csv('D:\\Kaggle Projects\\Titanic\\\\Data\\\\test.csv')"
   ]
  },
  {
   "cell_type": "code",
   "execution_count": 3,
   "metadata": {
    "collapsed": true
   },
   "outputs": [],
   "source": [
    "train = pd.DataFrame(train , columns=['Survived','Pclass','Sex','SibSp','Parch','Fare', 'Embarked'])\n",
    "test = pd.DataFrame(test_1 , columns= ['Pclass','Sex','SibSp','Parch','Fare', 'Embarked'])\n"
   ]
  },
  {
   "cell_type": "code",
   "execution_count": 4,
   "metadata": {
    "collapsed": false
   },
   "outputs": [
    {
     "name": "stdout",
     "output_type": "stream",
     "text": [
      "<class 'pandas.core.frame.DataFrame'>\n",
      "RangeIndex: 891 entries, 0 to 890\n",
      "Data columns (total 7 columns):\n",
      "Survived    891 non-null int64\n",
      "Pclass      891 non-null int64\n",
      "Sex         891 non-null object\n",
      "SibSp       891 non-null int64\n",
      "Parch       891 non-null int64\n",
      "Fare        891 non-null float64\n",
      "Embarked    889 non-null object\n",
      "dtypes: float64(1), int64(4), object(2)\n",
      "memory usage: 48.8+ KB\n"
     ]
    }
   ],
   "source": [
    "train.info()"
   ]
  },
  {
   "cell_type": "code",
   "execution_count": 5,
   "metadata": {
    "collapsed": false
   },
   "outputs": [
    {
     "name": "stdout",
     "output_type": "stream",
     "text": [
      "<class 'pandas.core.frame.DataFrame'>\n",
      "RangeIndex: 418 entries, 0 to 417\n",
      "Data columns (total 6 columns):\n",
      "Pclass      418 non-null int64\n",
      "Sex         418 non-null object\n",
      "SibSp       418 non-null int64\n",
      "Parch       418 non-null int64\n",
      "Fare        417 non-null float64\n",
      "Embarked    418 non-null object\n",
      "dtypes: float64(1), int64(3), object(2)\n",
      "memory usage: 19.7+ KB\n"
     ]
    }
   ],
   "source": [
    "test.info()"
   ]
  },
  {
   "cell_type": "code",
   "execution_count": 6,
   "metadata": {
    "collapsed": true
   },
   "outputs": [],
   "source": [
    "Fare = test.Fare.mean()\n",
    "train.Embarked.fillna('S' , inplace=True )\n",
    "test.Fare.fillna(Fare , inplace=True )"
   ]
  },
  {
   "cell_type": "code",
   "execution_count": 7,
   "metadata": {
    "collapsed": true
   },
   "outputs": [],
   "source": [
    "#Substituting the Values in the Categorical Values \n",
    "train.Sex.replace(to_replace='male', value=0, inplace=True)\n",
    "train.Sex.replace(to_replace='female', value=1, inplace=True)\n",
    "train.Embarked.replace(to_replace='S', value=0, inplace=True)\n",
    "train.Embarked.replace(to_replace='Q', value=1, inplace=True)\n",
    "train.Embarked.replace(to_replace='C', value=2, inplace=True)\n",
    "test.Sex.replace(to_replace='male', value=0, inplace=True)\n",
    "test.Sex.replace(to_replace='female', value=1, inplace=True)\n",
    "test.Embarked.replace(to_replace='S', value=0, inplace=True)\n",
    "test.Embarked.replace(to_replace='Q', value=1, inplace=True)\n",
    "test.Embarked.replace(to_replace='C', value=2, inplace=True)"
   ]
  },
  {
   "cell_type": "code",
   "execution_count": 8,
   "metadata": {
    "collapsed": true
   },
   "outputs": [],
   "source": [
    "#Siblings + Parch becomes family so taking the family \n",
    "Family = train.SibSp + train.Parch \n",
    "Family_1 = test.SibSp + test.Parch "
   ]
  },
  {
   "cell_type": "code",
   "execution_count": 9,
   "metadata": {
    "collapsed": true
   },
   "outputs": [],
   "source": [
    "Family = pd.DataFrame(Family , columns=['Family'])\n",
    "Family_1 = pd.DataFrame(Family_1 , columns=['Family'])"
   ]
  },
  {
   "cell_type": "code",
   "execution_count": 10,
   "metadata": {
    "collapsed": true
   },
   "outputs": [],
   "source": [
    "train.drop(['SibSp'],axis=1,inplace=True)\n",
    "train.drop(['Parch'],axis=1,inplace=True)\n",
    "test.drop(['SibSp'],axis=1,inplace=True)\n",
    "test.drop(['Parch'],axis=1,inplace=True)"
   ]
  },
  {
   "cell_type": "code",
   "execution_count": 11,
   "metadata": {
    "collapsed": true
   },
   "outputs": [],
   "source": [
    "train['Family'] = Family\n",
    "test['Family'] = Family_1"
   ]
  },
  {
   "cell_type": "code",
   "execution_count": 12,
   "metadata": {
    "collapsed": true
   },
   "outputs": [],
   "source": [
    "train.Family.replace(to_replace='4', value=1, inplace=True)\n",
    "train.Family.replace(to_replace='2', value=1, inplace=True)\n",
    "train.Family.replace(to_replace='6', value=1, inplace=True)\n",
    "train.Family.replace(to_replace='5', value=1, inplace=True)\n",
    "train.Family.replace(to_replace='3', value=1, inplace=True)\n",
    "train.Family.replace(to_replace='7', value=1, inplace=True)\n",
    "train.Family.replace(to_replace='10', value=1, inplace=True)"
   ]
  },
  {
   "cell_type": "code",
   "execution_count": 13,
   "metadata": {
    "collapsed": true
   },
   "outputs": [],
   "source": [
    "test.Family.replace(to_replace='4', value=1, inplace=True)\n",
    "test.Family.replace(to_replace='2', value=1, inplace=True)\n",
    "test.Family.replace(to_replace='6', value=1, inplace=True)\n",
    "test.Family.replace(to_replace='5', value=1, inplace=True)\n",
    "test.Family.replace(to_replace='3', value=1, inplace=True)\n",
    "test.Family.replace(to_replace='7', value=1, inplace=True)\n",
    "test.Family.replace(to_replace='10', value=1, inplace=True)"
   ]
  },
  {
   "cell_type": "code",
   "execution_count": 14,
   "metadata": {
    "collapsed": true
   },
   "outputs": [],
   "source": [
    "forest = ensemble.GradientBoostingClassifier(n_estimators=500)\n",
    "logistic = LogisticRegression()\n",
    "clf = svm.SVC()"
   ]
  },
  {
   "cell_type": "code",
   "execution_count": 15,
   "metadata": {
    "collapsed": true
   },
   "outputs": [],
   "source": [
    "x = train.iloc[:,1:]\n",
    "y = train.iloc[:,0]"
   ]
  },
  {
   "cell_type": "code",
   "execution_count": 16,
   "metadata": {
    "collapsed": true
   },
   "outputs": [],
   "source": [
    "model_forest = forest.fit(x, y)\n",
    "model_log = logistic.fit(x, y)\n",
    "model_svm = clf.fit(x, y)"
   ]
  },
  {
   "cell_type": "code",
   "execution_count": 17,
   "metadata": {
    "collapsed": false
   },
   "outputs": [
    {
     "name": "stdout",
     "output_type": "stream",
     "text": [
      "0.910213243547\n"
     ]
    }
   ],
   "source": [
    "print(model_forest.score(x, y))"
   ]
  },
  {
   "cell_type": "code",
   "execution_count": 18,
   "metadata": {
    "collapsed": false
   },
   "outputs": [
    {
     "name": "stdout",
     "output_type": "stream",
     "text": [
      "0.777777777778\n"
     ]
    }
   ],
   "source": [
    "print(model_log.score(x, y))"
   ]
  },
  {
   "cell_type": "code",
   "execution_count": 19,
   "metadata": {
    "collapsed": false
   },
   "outputs": [
    {
     "name": "stdout",
     "output_type": "stream",
     "text": [
      "0.830527497194\n"
     ]
    }
   ],
   "source": [
    "print(model_svm.score(x, y))"
   ]
  },
  {
   "cell_type": "code",
   "execution_count": 20,
   "metadata": {
    "collapsed": true
   },
   "outputs": [],
   "source": [
    "\n",
    "Predicted= model_forest.predict(test)"
   ]
  },
  {
   "cell_type": "code",
   "execution_count": 21,
   "metadata": {
    "collapsed": true
   },
   "outputs": [],
   "source": [
    "Predicted_val = pd.DataFrame(Predicted)\n",
    "Predicted_val.columns = ['Survived']\n",
    "Vector_1 =  test_1.PassengerId\n",
    "Values_pred = pd.DataFrame(Vector_1)\n",
    "Final  = pd.concat([ Values_pred, Predicted_val] ,  axis=1)\n",
    "Final.to_csv(path_or_buf = 'D:\\\\Kaggle Projects\\\\Titanic\\\\Random_forest_001.csv' ,  cols=['Values'] , index = False)"
   ]
  },
  {
   "cell_type": "code",
   "execution_count": 22,
   "metadata": {
    "collapsed": true
   },
   "outputs": [],
   "source": [
    "Predicted= model_log.predict(test)"
   ]
  },
  {
   "cell_type": "code",
   "execution_count": 23,
   "metadata": {
    "collapsed": true
   },
   "outputs": [],
   "source": [
    "Predicted_val = pd.DataFrame(Predicted)\n",
    "Predicted_val.columns = ['Survived']\n",
    "Vector_1 =  test_1.PassengerId\n",
    "Values_pred = pd.DataFrame(Vector_1)\n",
    "Final  = pd.concat([ Values_pred, Predicted_val] ,  axis=1)\n",
    "Final.to_csv(path_or_buf = 'D:\\\\Kaggle Projects\\\\Titanic\\\\Logistic_001.csv' ,  cols=['Values'] , index = False)"
   ]
  },
  {
   "cell_type": "code",
   "execution_count": 24,
   "metadata": {
    "collapsed": true
   },
   "outputs": [],
   "source": [
    "Predicted= model_svm.predict(test)"
   ]
  },
  {
   "cell_type": "code",
   "execution_count": 25,
   "metadata": {
    "collapsed": true
   },
   "outputs": [],
   "source": [
    "Predicted_val = pd.DataFrame(Predicted)\n",
    "Predicted_val.columns = ['Survived']\n",
    "Vector_1 =  test_1.PassengerId\n",
    "Values_pred = pd.DataFrame(Vector_1)\n",
    "Final  = pd.concat([ Values_pred, Predicted_val] ,  axis=1)\n",
    "Final.to_csv(path_or_buf = 'D:\\\\Kaggle Projects\\\\Titanic\\\\SVM_001.csv' ,  cols=['Values'] , index = False)"
   ]
  },
  {
   "cell_type": "code",
   "execution_count": null,
   "metadata": {
    "collapsed": true
   },
   "outputs": [],
   "source": []
  }
 ],
 "metadata": {
  "anaconda-cloud": {},
  "kernelspec": {
   "display_name": "Python [default]",
   "language": "python",
   "name": "python2"
  },
  "language_info": {
   "codemirror_mode": {
    "name": "ipython",
    "version": 2
   },
   "file_extension": ".py",
   "mimetype": "text/x-python",
   "name": "python",
   "nbconvert_exporter": "python",
   "pygments_lexer": "ipython2",
   "version": "2.7.12"
  }
 },
 "nbformat": 4,
 "nbformat_minor": 1
}
